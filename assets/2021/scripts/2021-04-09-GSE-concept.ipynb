{
 "cells": [
  {
   "cell_type": "markdown",
   "metadata": {},
   "source": [
    "# Visualising the concept of gene-set enrichment analysis"
   ]
  },
  {
   "cell_type": "code",
   "execution_count": null,
   "metadata": {},
   "outputs": [],
   "source": [
    "%matplotlib inline\n",
    "%config InlineBackend.figure_format = 'svg'\n",
    "\n",
    "import numpy as np\n",
    "import matplotlib as mpl\n",
    "import matplotlib.pyplot as plt\n",
    "from matplotlib import cm\n",
    "from collections import OrderedDict\n",
    "\n",
    "np.random.seed(1234)\n",
    "def plot_color_gradients(cmap_list):\n",
    "    # Create figure and adjust figure height to number of colormaps\n",
    "    nrows = len(cmap_list)\n",
    "    figh = (0.35 + 0.15 + (nrows + (nrows - 1) * 0.1) * 0.5)*2\n",
    "    fig, axs = plt.subplots(nrows=nrows + 1, figsize=(6.4, figh))\n",
    "    fig.subplots_adjust(top=1 - 0.35 / figh, bottom=0.25 / figh,\n",
    "                        left=0.2, right=0.9)\n",
    "    axs[0].set_title('Differential Expression Profile ($N \\sim 10^4$)', fontsize=16)\n",
    "\n",
    "    for ax, name in zip(axs, cmap_list):\n",
    "        ax.imshow(gradient, aspect='auto', cmap=plt.get_cmap(name))\n",
    "        ax.text(-0.01, 0.5, 'Positive', va='center', ha='right', fontsize=14,\n",
    "                transform=ax.transAxes)\n",
    "        ax.text(1.01, 0.5, 'Negative', va='center', ha='left', fontsize=14,\n",
    "                transform=ax.transAxes)\n",
    "\n",
    "        geneset_stats = {'GeneSet_A': np.random.beta(1, 5, 20),\n",
    "                'GeneSet_B': np.random.uniform(0, 1, 20),\n",
    "                'GeneSet_C': np.random.beta(5, 1, 20)}\n",
    "        tab_colors = mpl.colors.TABLEAU_COLORS\n",
    "        geneset_cols = [tab_colors['tab:red'], \n",
    "                        tab_colors['tab:olive'], \n",
    "                        tab_colors['tab:blue']]\n",
    "        for index, key in enumerate(geneset_stats):\n",
    "            stats = geneset_stats[key]\n",
    "            col = geneset_cols[index]\n",
    "            ymin = 1-index*0.33\n",
    "            ymax = 1-index*0.33-0.25\n",
    "            ymid = (ymin+ymax)/2\n",
    "            plt.text(-0.01, ymid, key, va='center', ha='right', fontsize=12)\n",
    "            for xc in stats:\n",
    "                plt.axvline(x=xc, ymin=ymin, ymax=ymax, color=col)\n",
    "        \n",
    "    # Turn off *all* ticks & spines, not just the ones with colormaps.\n",
    "    for ax in axs:\n",
    "        ax.set_axis_off()"
   ]
  },
  {
   "cell_type": "code",
   "execution_count": null,
   "metadata": {},
   "outputs": [],
   "source": [
    "gradient = np.linspace(0, 1, 256)\n",
    "gradient = np.vstack((gradient, gradient))"
   ]
  },
  {
   "cell_type": "code",
   "execution_count": null,
   "metadata": {},
   "outputs": [],
   "source": [
    "cmaps = ['RdBu']\n",
    "plot_color_gradients(cmaps)\n",
    "plt.show()"
   ]
  }
 ],
 "metadata": {
  "kernelspec": {
   "display_name": "Python 3",
   "language": "python",
   "name": "python3"
  },
  "language_info": {
   "codemirror_mode": {
    "name": "ipython",
    "version": 3
   },
   "file_extension": ".py",
   "mimetype": "text/x-python",
   "name": "python",
   "nbconvert_exporter": "python",
   "pygments_lexer": "ipython3",
   "version": "3.6.9"
  }
 },
 "nbformat": 4,
 "nbformat_minor": 4
}
