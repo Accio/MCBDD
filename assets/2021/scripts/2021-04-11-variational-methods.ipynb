{
 "cells": [
  {
   "cell_type": "markdown",
   "metadata": {},
   "source": [
    "# Introduction to variational methods\n",
    "\n",
    "Jitao David Zhang, April 2021"
   ]
  },
  {
   "cell_type": "code",
   "execution_count": null,
   "metadata": {},
   "outputs": [],
   "source": [
    "import numpy as np\n",
    "import matplotlib as mpl\n",
    "from matplotlib import pyplot as plt\n",
    "%matplotlib inline\n",
    "%config InlineBackend.figure_format = 'svg'"
   ]
  },
  {
   "cell_type": "markdown",
   "metadata": {},
   "source": [
    "## Bayesian inference"
   ]
  },
  {
   "cell_type": "markdown",
   "metadata": {},
   "source": [
    "$ p(z|x) = \\frac{p(x|z)p(z)}{p(x)} $"
   ]
  },
  {
   "cell_type": "markdown",
   "metadata": {},
   "source": [
    "$ p(z|x) = \\frac{p(x|z)p(z)}{\\sum_{z'}^{} p(x|z')p(z')} $"
   ]
  },
  {
   "cell_type": "markdown",
   "metadata": {},
   "source": [
    "$\n",
    "\\begin{split}\n",
    "D_{KL}(P \\parallel Q) &= \\sum_{x} P(x)ln\\frac{P(x)}{Q(x)} \\\\\n",
    " &= \\int P(x)ln\\frac{P(x)}{Q(x)}dx \n",
    "\\end{split}\n",
    "$"
   ]
  },
  {
   "cell_type": "code",
   "execution_count": null,
   "metadata": {},
   "outputs": [],
   "source": [
    "## KL divergence example\n",
    "## data: https://www.ncbi.nlm.nih.gov/pmc/articles/PMC403801/\n",
    "codes = ['A', 'T', 'G', 'C']\n",
    "internal_intron = [0.28, 0.30, 0.22, 0.20]\n",
    "first_exon = [0.19, 0.21, 0.32, 0.28]\n",
    "assert np.sum(internal_intron) == 1\n",
    "assert np.sum(first_exon) == 1"
   ]
  },
  {
   "cell_type": "code",
   "execution_count": null,
   "metadata": {},
   "outputs": [],
   "source": [
    "# plot distributions\n",
    "width = 0.35\n",
    "x = np.arange(len(codes))\n",
    "fig, ax = plt.subplots(figsize=[5,3.5])\n",
    "r1 = ax.bar(x - width/2, first_exon, width, label=\"First exon\", color='orange')\n",
    "r2 = ax.bar(x + width/2, internal_intron, width, label=\"Internal intron\")\n",
    "\n",
    "plt.ylim(0,0.35)\n",
    "ax.set_ylabel('Probability')\n",
    "ax.set_title('Nucleotide composition')\n",
    "ax.set_xticks(x)\n",
    "ax.set_xticklabels(codes)\n",
    "ax.legend()\n",
    "\n",
    "## ax.bar_label(r1, padding=3)\n",
    "## ax.bar_label(r2, padding=3)\n",
    "\n",
    "fig.tight_layout()\n",
    "\n",
    "plt.show()"
   ]
  },
  {
   "cell_type": "code",
   "execution_count": null,
   "metadata": {},
   "outputs": [],
   "source": [
    "# calculate the kl divergence\n",
    "def kl_divergence(p, q):\n",
    "    return sum(p[i] * np.log2(p[i]/q[i]) for i in range(len(p)))\n",
    "\n",
    "ff_kl = kl_divergence(first_exon, first_exon)\n",
    "if_kl = kl_divergence(internal_intron, first_exon)\n",
    "fi_kl = kl_divergence(first_exon, internal_intron)\n",
    "print(\"KL(First Exon || First Exon): %.6f bits\" % ff_kl)\n",
    "print(\"KL(Internal Intron || First Exon): %.6f bits\" % if_kl)\n",
    "print(\"KL(First Exon || Internal Intron): %.6f bits\" % fi_kl)\n"
   ]
  },
  {
   "cell_type": "markdown",
   "metadata": {},
   "source": [
    "## ELBO"
   ]
  },
  {
   "cell_type": "markdown",
   "metadata": {},
   "source": [
    "$\n",
    "\\begin{split}\n",
    "\\textrm{KL}(q(z) \\parallel p(z|x)) &= \\mathbb{E}[\\log q(z)] - \\mathbb{E}[\\log p(z|x)] \\\\\n",
    "  &= \\mathbb{E}[\\log q(z)] - \\mathbb{E}[\\log p(z,x)] + \\log p(x)\n",
    "\\end{split}\n",
    "$"
   ]
  },
  {
   "cell_type": "markdown",
   "metadata": {},
   "source": [
    "$\n",
    "\\textrm{ELBO}(q) = \\mathbb{E}[\\log p(z,x)] - \\mathbb{E}[\\log q(z)] \n",
    "$"
   ]
  },
  {
   "cell_type": "markdown",
   "metadata": {},
   "source": [
    "$\n",
    "\\textrm{ELBO}(q) = \\log p(x) - \\textrm{KL}(q(z) \\parallel p(z|x)) \n",
    "$"
   ]
  },
  {
   "cell_type": "markdown",
   "metadata": {},
   "source": [
    "$\n",
    "\\log p(x) = \\textrm{KL}(q(z) \\parallel p(z|x))  + \\textrm{ELBO}(q)\n",
    "$"
   ]
  },
  {
   "cell_type": "markdown",
   "metadata": {},
   "source": [
    "$\n",
    "\\begin{split}\n",
    "\\log p(x) &= \\log\\frac{p(x,z)}{p(z|x)} \\\\\n",
    "  & = \\int q(z)\\log\\frac{p(x,z)}{p(z|x)} dz \\\\\n",
    "  & = \\int q(z)\\log\\frac{p(x,z)}{p(z|x)}\\frac{q(z)}{q(z)}dz \\\\ \n",
    "  & = \\int q(z)\\log\\frac{q(z)}{p(z|x)}dz + \n",
    "  \\int q(z)\\log\\frac{p(x,z)}{q(z)} dz\n",
    "\\end{split}\n",
    "$"
   ]
  },
  {
   "cell_type": "markdown",
   "metadata": {},
   "source": [
    "# Example of normal inference"
   ]
  },
  {
   "cell_type": "code",
   "execution_count": null,
   "metadata": {},
   "outputs": [],
   "source": [
    "np.random.seed(1887)\n",
    "vals = np.random.normal(1, 0.45, 20)\n",
    "fig = plt.figure(figsize=[5,1])\n",
    "plt.plot(vals, [1]*20, 'bo', figure=fig)\n",
    "plt.yticks([])"
   ]
  }
 ],
 "metadata": {
  "kernelspec": {
   "display_name": "Python 3",
   "language": "python",
   "name": "python3"
  },
  "language_info": {
   "codemirror_mode": {
    "name": "ipython",
    "version": 3
   },
   "file_extension": ".py",
   "mimetype": "text/x-python",
   "name": "python",
   "nbconvert_exporter": "python",
   "pygments_lexer": "ipython3",
   "version": "3.6.9"
  }
 },
 "nbformat": 4,
 "nbformat_minor": 4
}
