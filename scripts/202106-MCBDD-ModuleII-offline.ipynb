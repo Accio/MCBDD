{
 "cells": [
  {
   "cell_type": "markdown",
   "metadata": {},
   "source": [
    "# MCBDD 2021 Module II offline activity \n",
    "\n",
    "Jitao David Zhang, June 2021\n",
    "\n",
    "All the analysis below was done with python 3.8.5 using conda version 4.10.1.\n"
   ]
  },
  {
   "cell_type": "markdown",
   "metadata": {},
   "source": [
    "## Task 1\n",
    "\n",
    "Retrieve all approved drugs from the ChEMBL database, sort them by approval year and name. \n",
    "\n",
    "The following steps examine the first approval year and names of drugs, and fill a DataFrame with these information. While the first approval year is almost uniquely defined, a drug can have many names. For consistency, we use the INN (international nonproprietary names). See [chembl_webresource_client](https://github.com/chembl/chembl_webresource_client) for more examples."
   ]
  },
  {
   "cell_type": "code",
   "execution_count": 1,
   "metadata": {},
   "outputs": [],
   "source": [
    "from chembl_webresource_client.new_client import new_client\n",
    "import requests\n",
    "import json\n",
    "import pandas as pd\n",
    "from collections import Counter\n",
    "import matplotlib.pyplot as plt"
   ]
  },
  {
   "cell_type": "code",
   "execution_count": 2,
   "metadata": {},
   "outputs": [
    {
     "data": {
      "text/plain": [
       "13721"
      ]
     },
     "execution_count": 2,
     "metadata": {},
     "output_type": "execute_result"
    }
   ],
   "source": [
    "drugs = new_client.drug\n",
    "len(drugs)"
   ]
  },
  {
   "cell_type": "code",
   "execution_count": 3,
   "metadata": {},
   "outputs": [
    {
     "data": {
      "text/plain": [
       "{'applicants': ['Mylan Pharmaceuticals Inc',\n",
       "  'Idt Australia Ltd',\n",
       "  'Ani Pharmaceuticals Inc',\n",
       "  'Teva Pharmaceuticals Usa',\n",
       "  'Pfizer Laboratories Div Pfizer Inc',\n",
       "  'Ivax Pharmaceuticals Inc Sub Teva Pharmaceuticals Usa',\n",
       "  'Watson Laboratories Inc',\n",
       "  'Pfizer Inc',\n",
       "  'American Therapeutics Inc',\n",
       "  'Purepac Pharmaceutical Co'],\n",
       " 'atc_classification': [{'code': 'C02CA01',\n",
       "   'description': 'CARDIOVASCULAR SYSTEM: ANTIHYPERTENSIVES: ANTIADRENERGIC AGENTS, PERIPHERALLY ACTING: Alpha-adrenoreceptor antagonists'}],\n",
       " 'availability_type': 1,\n",
       " 'biotherapeutic': None,\n",
       " 'black_box': False,\n",
       " 'black_box_warning': '0',\n",
       " 'chirality': 2,\n",
       " 'development_phase': 4,\n",
       " 'drug_type': 1,\n",
       " 'first_approval': 1976,\n",
       " 'first_in_class': False,\n",
       " 'helm_notation': None,\n",
       " 'indication_class': 'Antihypertensive',\n",
       " 'molecule_chembl_id': 'CHEMBL2',\n",
       " 'molecule_properties': {'alogp': '1.78',\n",
       "  'aromatic_rings': 3,\n",
       "  'cx_logd': '1.43',\n",
       "  'cx_logp': '1.65',\n",
       "  'cx_most_apka': None,\n",
       "  'cx_most_bpka': '7.24',\n",
       "  'full_molformula': 'C19H21N5O4',\n",
       "  'full_mwt': '383.41',\n",
       "  'hba': 8,\n",
       "  'hba_lipinski': 9,\n",
       "  'hbd': 1,\n",
       "  'hbd_lipinski': 2,\n",
       "  'heavy_atoms': 28,\n",
       "  'molecular_species': 'NEUTRAL',\n",
       "  'mw_freebase': '383.41',\n",
       "  'mw_monoisotopic': '383.1594',\n",
       "  'num_lipinski_ro5_violations': 0,\n",
       "  'num_ro5_violations': 0,\n",
       "  'psa': '106.95',\n",
       "  'qed_weighted': '0.73',\n",
       "  'ro3_pass': 'N',\n",
       "  'rtb': 4},\n",
       " 'molecule_structures': {'canonical_smiles': 'COc1cc2nc(N3CCN(C(=O)c4ccco4)CC3)nc(N)c2cc1OC',\n",
       "  'molfile': '\\n     RDKit          2D\\n\\n 28 31  0  0  0  0  0  0  0  0999 V2000\\n    0.9375   -1.9792    0.0000 C   0  0  0  0  0  0  0  0  0  0  0  0\\n    0.9292   -2.6917    0.0000 N   0  0  0  0  0  0  0  0  0  0  0  0\\n   -0.3208   -2.6750    0.0000 C   0  0  0  0  0  0  0  0  0  0  0  0\\n    0.2875   -3.0417    0.0000 C   0  0  0  0  0  0  0  0  0  0  0  0\\n    0.3042   -1.6167    0.0000 N   0  0  0  0  0  0  0  0  0  0  0  0\\n   -0.3208   -1.9625    0.0000 C   0  0  0  0  0  0  0  0  0  0  0  0\\n    3.3917   -0.5917    0.0000 C   0  0  0  0  0  0  0  0  0  0  0  0\\n    1.5542   -1.6417    0.0000 N   0  0  0  0  0  0  0  0  0  0  0  0\\n    2.7792   -0.9542    0.0000 N   0  0  0  0  0  0  0  0  0  0  0  0\\n   -0.9500   -3.0167    0.0000 C   0  0  0  0  0  0  0  0  0  0  0  0\\n    4.0125   -0.9292    0.0000 C   0  0  0  0  0  0  0  0  0  0  0  0\\n   -0.9250   -1.5917    0.0000 C   0  0  0  0  0  0  0  0  0  0  0  0\\n   -1.5833   -2.6542    0.0000 C   0  0  0  0  0  0  0  0  0  0  0  0\\n   -1.5708   -1.9417    0.0000 C   0  0  0  0  0  0  0  0  0  0  0  0\\n    4.2417   -1.5917    0.0000 O   0  0  0  0  0  0  0  0  0  0  0  0\\n    1.5417   -0.9500    0.0000 C   0  0  0  0  0  0  0  0  0  0  0  0\\n    2.1667   -2.0000    0.0000 C   0  0  0  0  0  0  0  0  0  0  0  0\\n    2.1667   -0.5792    0.0000 C   0  0  0  0  0  0  0  0  0  0  0  0\\n    2.7792   -1.6375    0.0000 C   0  0  0  0  0  0  0  0  0  0  0  0\\n    3.4042    0.0875    0.0000 O   0  0  0  0  0  0  0  0  0  0  0  0\\n    4.5792   -0.5125    0.0000 C   0  0  0  0  0  0  0  0  0  0  0  0\\n    4.9417   -1.5917    0.0000 C   0  0  0  0  0  0  0  0  0  0  0  0\\n    5.1542   -0.9292    0.0000 C   0  0  0  0  0  0  0  0  0  0  0  0\\n    0.2667   -3.7542    0.0000 N   0  0  0  0  0  0  0  0  0  0  0  0\\n   -2.2000   -2.9917    0.0000 O   0  0  0  0  0  0  0  0  0  0  0  0\\n   -2.1833   -1.5792    0.0000 O   0  0  0  0  0  0  0  0  0  0  0  0\\n   -2.7958   -1.9125    0.0000 C   0  0  0  0  0  0  0  0  0  0  0  0\\n   -2.7958   -2.6542    0.0000 C   0  0  0  0  0  0  0  0  0  0  0  0\\n  2  1  2  0\\n  3  6  1  0\\n  4  2  1  0\\n  5  1  1  0\\n  6  5  2  0\\n  7  9  1  0\\n  8  1  1  0\\n  9 19  1  0\\n 10  3  1  0\\n 11  7  1  0\\n 12  6  1  0\\n 13 14  1  0\\n 14 12  2  0\\n 15 11  1  0\\n 16  8  1  0\\n 17  8  1  0\\n 18 16  1  0\\n 19 17  1  0\\n 20  7  2  0\\n 21 11  2  0\\n 22 15  1  0\\n 23 21  1  0\\n 24  4  1  0\\n 25 13  1  0\\n 26 14  1  0\\n 27 26  1  0\\n 28 25  1  0\\n  3  4  2  0\\n  9 18  1  0\\n 10 13  2  0\\n 22 23  2  0\\nM  END',\n",
       "  'standard_inchi': 'InChI=1S/C19H21N5O4/c1-26-15-10-12-13(11-16(15)27-2)21-19(22-17(12)20)24-7-5-23(6-8-24)18(25)14-4-3-9-28-14/h3-4,9-11H,5-8H2,1-2H3,(H2,20,21,22)',\n",
       "  'standard_inchi_key': 'IENZQIKPVFGBNW-UHFFFAOYSA-N'},\n",
       " 'molecule_synonyms': [{'molecule_synonym': 'CP-12299',\n",
       "   'syn_type': 'RESEARCH_CODE',\n",
       "   'synonyms': 'CP-12299'},\n",
       "  {'molecule_synonym': 'CP-122991',\n",
       "   'syn_type': 'RESEARCH_CODE',\n",
       "   'synonyms': 'CP-122991'},\n",
       "  {'molecule_synonym': 'Prazosin', 'syn_type': 'FDA', 'synonyms': 'Prazosin'},\n",
       "  {'molecule_synonym': 'Prazosin', 'syn_type': 'ATC', 'synonyms': 'PRAZOSIN'},\n",
       "  {'molecule_synonym': 'Prazosin', 'syn_type': 'BAN', 'synonyms': 'PRAZOSIN'},\n",
       "  {'molecule_synonym': 'Prazosin', 'syn_type': 'INN', 'synonyms': 'PRAZOSIN'},\n",
       "  {'molecule_synonym': 'Prazosin',\n",
       "   'syn_type': 'MERCK_INDEX',\n",
       "   'synonyms': 'PRAZOSIN'},\n",
       "  {'molecule_synonym': 'Prazosin',\n",
       "   'syn_type': 'OTHER',\n",
       "   'synonyms': 'PRAZOSIN'}],\n",
       " 'ob_patent': None,\n",
       " 'oral': True,\n",
       " 'parenteral': False,\n",
       " 'prodrug': False,\n",
       " 'research_codes': ['NSC-292810',\n",
       "  'CP-122991',\n",
       "  'CP-12299-1',\n",
       "  'CP-12,299-1',\n",
       "  'CP-12299'],\n",
       " 'rule_of_five': True,\n",
       " 'sc_patent': None,\n",
       " 'synonyms': ['Prazosin hydrochloride (FDA, JAN, MI, USAN, USP)',\n",
       "  'Prazosin (BAN, INN, MI)',\n",
       "  ''],\n",
       " 'topical': False,\n",
       " 'usan_stem': '-azosin',\n",
       " 'usan_stem_definition': 'antihypertensives (prazosin type)',\n",
       " 'usan_stem_substem': '-azosin(-azosin)',\n",
       " 'usan_year': 1968,\n",
       " 'withdrawn_class': None,\n",
       " 'withdrawn_country': None,\n",
       " 'withdrawn_flag': '0',\n",
       " 'withdrawn_reason': None,\n",
       " 'withdrawn_year': None}"
      ]
     },
     "execution_count": 3,
     "metadata": {},
     "output_type": "execute_result"
    }
   ],
   "source": [
    "drugs[0]"
   ]
  },
  {
   "cell_type": "code",
   "execution_count": 4,
   "metadata": {},
   "outputs": [
    {
     "data": {
      "text/plain": [
       "'CHEMBL2'"
      ]
     },
     "execution_count": 4,
     "metadata": {},
     "output_type": "execute_result"
    }
   ],
   "source": [
    "def get_chembl(drug: list):\n",
    "    \"\"\" return ChEMBL ID\"\"\"\n",
    "    return drug['molecule_chembl_id']\n",
    "\n",
    "get_chembl(drugs[0])"
   ]
  },
  {
   "cell_type": "code",
   "execution_count": 5,
   "metadata": {},
   "outputs": [
    {
     "data": {
      "text/plain": [
       "1976"
      ]
     },
     "execution_count": 5,
     "metadata": {},
     "output_type": "execute_result"
    }
   ],
   "source": [
    "def get_FirstApproval(drug: list):\n",
    "    \"\"\" returns the year of first approval\"\"\"\n",
    "    return drug['first_approval']\n",
    "\n",
    "\n",
    "get_FirstApproval(drugs[0])"
   ]
  },
  {
   "cell_type": "code",
   "execution_count": 6,
   "metadata": {},
   "outputs": [
    {
     "data": {
      "text/plain": [
       "[{'molecule_synonym': 'CP-12299',\n",
       "  'syn_type': 'RESEARCH_CODE',\n",
       "  'synonyms': 'CP-12299'},\n",
       " {'molecule_synonym': 'CP-122991',\n",
       "  'syn_type': 'RESEARCH_CODE',\n",
       "  'synonyms': 'CP-122991'},\n",
       " {'molecule_synonym': 'Prazosin', 'syn_type': 'FDA', 'synonyms': 'Prazosin'},\n",
       " {'molecule_synonym': 'Prazosin', 'syn_type': 'ATC', 'synonyms': 'PRAZOSIN'},\n",
       " {'molecule_synonym': 'Prazosin', 'syn_type': 'BAN', 'synonyms': 'PRAZOSIN'},\n",
       " {'molecule_synonym': 'Prazosin', 'syn_type': 'INN', 'synonyms': 'PRAZOSIN'},\n",
       " {'molecule_synonym': 'Prazosin',\n",
       "  'syn_type': 'MERCK_INDEX',\n",
       "  'synonyms': 'PRAZOSIN'},\n",
       " {'molecule_synonym': 'Prazosin', 'syn_type': 'OTHER', 'synonyms': 'PRAZOSIN'}]"
      ]
     },
     "execution_count": 6,
     "metadata": {},
     "output_type": "execute_result"
    }
   ],
   "source": [
    "drugs[0]['molecule_synonyms']"
   ]
  },
  {
   "cell_type": "code",
   "execution_count": 7,
   "metadata": {},
   "outputs": [
    {
     "data": {
      "text/plain": [
       "'Prazosin'"
      ]
     },
     "execution_count": 7,
     "metadata": {},
     "output_type": "execute_result"
    }
   ],
   "source": [
    "def get_INN(drug: list):\n",
    "    \"\"\"returns INN name, use ; as concatenator if more than one value is available\"\"\"\n",
    "    inn = [x['molecule_synonym'] for x in drug['molecule_synonyms'] if x['syn_type'] == 'INN']\n",
    "    res = ';'.join(inn)\n",
    "    return(res)\n",
    "\n",
    "\n",
    "get_INN(drugs[0])"
   ]
  },
  {
   "cell_type": "code",
   "execution_count": 8,
   "metadata": {},
   "outputs": [],
   "source": [
    "ids = [get_chembl(x) for x in drugs]\n",
    "years = [get_FirstApproval(x) for x in drugs]\n",
    "names = [get_INN(x) for x in drugs]"
   ]
  },
  {
   "cell_type": "code",
   "execution_count": 9,
   "metadata": {},
   "outputs": [
    {
     "name": "stdout",
     "output_type": "stream",
     "text": [
      "                  ID               Name  FirstApproval\n",
      "263         CHEMBL90                            1939.0\n",
      "1056       CHEMBL821                            1939.0\n",
      "2873       CHEMBL190                            1940.0\n",
      "4535   CHEMBL1201649                            1942.0\n",
      "4250   CHEMBL1201235                            1943.0\n",
      "...              ...                ...            ...\n",
      "2444    CHEMBL167779        Zuclomifene            NaN\n",
      "1304     CHEMBL53904     Zuclopenthixol            NaN\n",
      "12335  CHEMBL4105630         Zuranolone            NaN\n",
      "12780  CHEMBL4297637  Zuretinol acetate            NaN\n",
      "12115  CHEMBL3989838       Zylofuramine            NaN\n",
      "\n",
      "[13721 rows x 3 columns]\n"
     ]
    }
   ],
   "source": [
    "task1 = pd.DataFrame({'ID':ids, 'Name':names, 'FirstApproval':years})\n",
    "task1.sort_values(by=['Name', 'FirstApproval'], axis=0, inplace=True)\n",
    "print(task1)\n",
    "## notice that not all molecules have INN names or approval information"
   ]
  },
  {
   "cell_type": "code",
   "execution_count": 10,
   "metadata": {},
   "outputs": [],
   "source": [
    "task1.to_csv('20210613-ChEMBL-drugs-sorted-by-name-and-approval.tsv.gz', sep='\\t')"
   ]
  },
  {
   "cell_type": "markdown",
   "metadata": {},
   "source": [
    "## Task 2\n",
    "\n",
    "For each approved drug since 2011 that you identified in step (1), retrieve a list of UniProt accession numbers, namely protein targets associated with the drug.\n",
    "\n",
    "We first filter the compounds by the approval year."
   ]
  },
  {
   "cell_type": "code",
   "execution_count": 11,
   "metadata": {},
   "outputs": [
    {
     "name": "stdout",
     "output_type": "stream",
     "text": [
      "                  ID                  Name  FirstApproval\n",
      "3164    CHEMBL271227                               2011.0\n",
      "5208   CHEMBL1628502  Gabapentin enacarbil         2011.0\n",
      "10676  CHEMBL2218860            Gadobutrol         2011.0\n",
      "5465   CHEMBL1742994   Brentuximab vedotin         2011.0\n",
      "2573    CHEMBL439849            Vilazodone         2011.0\n",
      "...              ...                   ...            ...\n",
      "11824  CHEMBL3833307          Satralizumab         2020.0\n",
      "13282  CHEMBL4298187  Ferric derisomaltose         2020.0\n",
      "10667  CHEMBL2205807            Abametapir         2020.0\n",
      "7071   CHEMBL2105248                               2020.0\n",
      "12170  CHEMBL3989949            Cenobamate         2020.0\n",
      "\n",
      "[421 rows x 3 columns]\n"
     ]
    }
   ],
   "source": [
    "approved_s2011_df = task1.query('FirstApproval >= 2011')\\\n",
    "                         .sort_values(by='FirstApproval', axis=0)\n",
    "print(approved_s2011_df)"
   ]
  },
  {
   "cell_type": "markdown",
   "metadata": {},
   "source": [
    "Next we query UniProts of targets associated with each drug molecule. The query is done in two steps: first we find ChEMBL identifiers of targets, and then we translate these ChEMBL identifiers to UniProt identifiers.\n",
    "\n",
    "To save time, I used only the first 50 drugs to produce the example below. Even this is quite slow, taking quite a few minutes to run. You are welcome to use all compounds as input if you are interested in the results. \n",
    "\n",
    "Some technical detail: queries are done in so-called chunks, with 25 items in a chunk and therefore we use two chunks in total. The use of chunks help to limite the information transmitted between the server and the client, and thereby reducing both server load and client's waiting time. If you wish to process all compounds (counted 421 as of 13th June 2021), you can use a larger chunk size, for instance 50."
   ]
  },
  {
   "cell_type": "code",
   "execution_count": 12,
   "metadata": {},
   "outputs": [],
   "source": [
    "drugs_approved_s2021 = approved_s2011_df.ID[0:50]\n",
    "\n",
    "comp2target = dict()\n",
    "for d in drugs_approved_s2021:\n",
    "    comp2target[d] = set()\n",
    "\n",
    "# Process compounds in chunks so that we prevent huge queries:\n",
    "chunk_size = 25\n",
    "keys = list(comp2target.keys())\n",
    "\n",
    "for i in range(0, len(keys), chunk_size):\n",
    "    # we jump from compounds to targets through activities:\n",
    "    activities = new_client.activity.filter(molecule_chembl_id__in=keys[i:i + chunk_size]).only(\n",
    "        ['molecule_chembl_id', 'target_chembl_id'])\n",
    "    # extracting target ChEMBL IDs from activities:\n",
    "    for act in activities:\n",
    "        comp2target[act['molecule_chembl_id']].add(act['target_chembl_id'])\n",
    "\n",
    "# Now our dictionary maps from compound ChEMBL IDs into target ChEMBL IDs\n",
    "# We next translate the identifier of targets from ChEMBL IDs to UniProt IDs\n",
    "for key, val in comp2target.items():\n",
    "    # We don't know how many targets are associated with any compound. Therefore it is\n",
    "    # better to process targets in chunks, as suggested by the ChEMBL webclient.\n",
    "    lval = list(val)\n",
    "    uniprots = set()\n",
    "    for i in range(0, len(val), chunk_size):\n",
    "        targets = new_client.target.filter(target_chembl_id__in=lval[i:i + chunk_size]).only(\n",
    "            ['target_components'])\n",
    "        uniprots |= {comp['accession'] for t in targets for comp in t['target_components']}\n",
    "\n",
    "    comp2target[key] = uniprots"
   ]
  },
  {
   "cell_type": "code",
   "execution_count": 13,
   "metadata": {},
   "outputs": [
    {
     "name": "stdout",
     "output_type": "stream",
     "text": [
      "                 ID UniProt\n",
      "0      CHEMBL271227  P10275\n",
      "1      CHEMBL271227  P05093\n",
      "2      CHEMBL271227  P0DTD1\n",
      "3     CHEMBL1628502  P0DTD1\n",
      "4     CHEMBL2218860  P0DTD1\n",
      "...             ...     ...\n",
      "3253  CHEMBL1082407  P15207\n",
      "3254  CHEMBL1082407  O60885\n",
      "3255  CHEMBL1082407  Q9UBN7\n",
      "3256  CHEMBL1082407  P05093\n",
      "3257  CHEMBL1082407  P0DTD1\n",
      "\n",
      "[3258 rows x 2 columns]\n"
     ]
    }
   ],
   "source": [
    "comp2target_df = pd.DataFrame([(i, uniprot) for i, j in comp2target.items() for uniprot in j], \n",
    "                  columns=['ID','UniProt'])\n",
    "print(comp2target_df)"
   ]
  },
  {
   "cell_type": "markdown",
   "metadata": {},
   "source": [
    "Here we report *all* targets, irrespective of assays and affinicities. In reality, you may be more interested in specific targets with high affinities. In such situations, it makes sense to se one or more filters that fit your purpose.\n",
    "\n",
    "Finally we export the results into a tab-delimited file again."
   ]
  },
  {
   "cell_type": "code",
   "execution_count": 14,
   "metadata": {},
   "outputs": [],
   "source": [
    "comp2target_df.to_csv('20210613-ChEMBL-drugs-since-2011-UniProt.tsv.gz', sep='\\t')"
   ]
  },
  {
   "cell_type": "markdown",
   "metadata": {},
   "source": [
    "## Task 3\n",
    "\n",
    "For each protein with a UniProt accession number that you identified in step (2),retrieve UniProt keywords associated with it.\n",
    "\n",
    "Again, for the purpose of demonstration, I show the analysis with the first 100 proteins. I used the REST API of UniProt to show how it works, which accepts maximum 100 proteins in one go, that's why I retrieved the keywords of 100 proteins. Similar as what we did before with the ChEMBL database, you can break up big queries into smaller chunks.\n",
    "\n",
    "You can try to query all other proteins with the same procedure. However, for effective use when you have many identifiers, it may make more sense to bulk-download the keyword data from UniProt and run the analysis."
   ]
  },
  {
   "cell_type": "code",
   "execution_count": 15,
   "metadata": {},
   "outputs": [],
   "source": [
    "## read in results of task 2\n",
    "task2_res = pd.read_csv('20210613-ChEMBL-drugs-since-2011-UniProt.tsv.gz', sep='\\t', index_col=0)"
   ]
  },
  {
   "cell_type": "code",
   "execution_count": 16,
   "metadata": {},
   "outputs": [],
   "source": [
    "uniq_uniprot = set(task2_res.UniProt)\n",
    "sel_uniprot = list(uniq_uniprot)[:100]\n",
    "sel_uniprot_queryid = ','.join(sel_uniprot)"
   ]
  },
  {
   "cell_type": "code",
   "execution_count": 17,
   "metadata": {},
   "outputs": [],
   "source": [
    "## see UniProt API document here: https://www.ebi.ac.uk/proteins/api/doc/#!/proteins/search\n",
    "url = 'https://www.ebi.ac.uk/proteins/api/proteins?offset=0&size=100&accession='+sel_uniprot_queryid\n",
    "r = requests.get(url, headers={'Accept': 'application/json'})"
   ]
  },
  {
   "cell_type": "code",
   "execution_count": 18,
   "metadata": {},
   "outputs": [
    {
     "name": "stdout",
     "output_type": "stream",
     "text": [
      "['ATP-binding', 'Cell membrane', 'Cytoplasm', 'Endoplasmic reticulum', 'Kinase', 'Membrane', 'Microsome', 'Nucleotide-binding', 'Nucleus', 'Reference proteome', 'Transferase']\n"
     ]
    }
   ],
   "source": [
    "## the keywords of the first protein can be found here\n",
    "keywords = [list(k.values())[0] for k in r.json()[0]['keywords']]\n",
    "print(keywords)"
   ]
  },
  {
   "cell_type": "code",
   "execution_count": 19,
   "metadata": {},
   "outputs": [
    {
     "data": {
      "text/plain": [
       "100"
      ]
     },
     "execution_count": 19,
     "metadata": {},
     "output_type": "execute_result"
    }
   ],
   "source": [
    "len(r.json())"
   ]
  },
  {
   "cell_type": "code",
   "execution_count": 20,
   "metadata": {},
   "outputs": [
    {
     "name": "stdout",
     "output_type": "stream",
     "text": [
      "Counter({'Reference proteome': 97, '3D-structure': 73, 'Phosphoprotein': 73, 'Nucleotide-binding': 59, 'Transferase': 58, 'Alternative splicing': 58, 'ATP-binding': 57, 'Kinase': 50, 'Membrane': 47, 'Cytoplasm': 46, 'Serine/threonine-protein kinase': 36, 'Metal-binding': 36, 'Cell membrane': 31, 'Nucleus': 30, 'Transmembrane': 29, 'Transmembrane helix': 29, 'Glycoprotein': 27, 'Disease variant': 26, 'Repeat': 25, 'Direct protein sequencing': 23, 'Disulfide bond': 22, 'Ubl conjugation': 21, 'Magnesium': 20, 'Tyrosine-protein kinase': 19, 'Signal': 19, 'Acetylation': 19, 'Receptor': 19, 'Hydrolase': 15, 'Zinc': 12, 'Endoplasmic reticulum': 11, 'Transcription': 11, 'Transcription regulation': 11, 'Lipoprotein': 11, 'Apoptosis': 9, 'Chromatin regulator': 8, 'Cytoskeleton': 8, 'Methylation': 8, 'G-protein coupled receptor': 8, 'Transducer': 8, 'Isopeptide bond': 7, 'Cell cycle': 7, 'Palmitate': 7, 'Cell junction': 7, 'Microsome': 6, 'Developmental protein': 6, 'Transport': 6, 'Chromosomal rearrangement': 6, 'Lipid metabolism': 6, 'Mitochondrion': 6, 'Synapse': 6, 'Oxidoreductase': 6, 'Differentiation': 5, 'SH2 domain': 5, 'Coiled coil': 5, 'Glycosyltransferase': 5, 'Zinc-finger': 5, 'Protease': 5, 'Postsynaptic cell membrane': 5, 'Heme': 5, 'Iron': 5, 'Cell projection': 5, 'Neurogenesis': 4, 'Biological rhythms': 4, 'Repressor': 4, 'Epilepsy': 4, 'Ion channel': 4, 'Ion transport': 4, 'Immunity': 4, 'Calcium': 4, 'Serine protease': 4, 'DNA-binding': 4, 'Endosome': 4, 'Host-virus interaction': 4, 'Cytoplasmic vesicle': 4, 'Monooxygenase': 4, 'SH3 domain': 4, 'Wnt signaling pathway': 4, 'Neurodegeneration': 4, 'Adaptive immunity': 3, 'Proto-oncogene': 3, 'mRNA processing': 3, 'Steroid metabolism': 3, 'Zymogen': 3, 'Cell division': 3, 'Mitosis': 3, 'RNA-binding': 3, 'Immunoglobulin domain': 3, 'Activator': 3, 'Calmodulin-binding': 3, 'NADP': 3, 'Fatty acid metabolism': 3, 'Mental retardation': 3, 'Cell adhesion': 3, 'Manganese': 3, 'Autophagy': 3, 'Amyotrophic lateral sclerosis': 3, 'Nuclease': 3, 'Chromosome': 3, 'Potassium': 2, 'Potassium channel': 2, 'Potassium transport': 2, 'Voltage-gated channel': 2, 'Innate immunity': 2, 'GTP-binding': 2, 'Protein biosynthesis': 2, 'Helicase': 2, 'mRNA splicing': 2, 'Retinitis pigmentosa': 2, 'Cleavage on pair of basic residues': 2, 'Secreted': 2, 'Alternative initiation': 2, 'Chromosome partition': 2, 'Leucine-rich repeat': 2, 'Carbohydrate metabolism': 2, 'Glycogen metabolism': 2, 'Glycogen storage disease': 2, 'Golgi apparatus': 2, 'Sterol metabolism': 2, 'Lyase': 2, 'Chemotaxis': 2, 'Myristate': 2, 'ANK repeat': 2, 'Ligase': 2, 'Lysosome': 2, 'Ligand-gated ion channel': 2, 'DNA integration': 2, 'DNA recombination': 2, 'Endonuclease': 2, 'Nucleotidyltransferase': 2, 'RNA-directed DNA polymerase': 2, 'Obesity': 2, 'Initiation factor': 1, 'ADP-ribosylation': 1, 'Multifunctional enzyme': 1, 'Unfolded protein response': 1, 'Spliceosome': 1, 'Acute phase': 1, 'Blood coagulation': 1, 'Gamma-carboxyglutamic acid': 1, 'Hemostasis': 1, 'Kringle': 1, 'Pharmaceutical': 1, 'Thrombophilia': 1, 'Lipid-binding': 1, 'Pseudohermaphroditism': 1, 'Steroid-binding': 1, 'Allosteric enzyme': 1, 'Pyridoxal phosphate': 1, 'Digestion': 1, 'Sulfation': 1, 'Hydroxylation': 1, 'Purine salvage': 1, 'Homeobox': 1, 'Heparin-binding': 1, 'Sodium': 1, 'GPI-anchor': 1, 'FAD': 1, 'Flavoprotein': 1, 'FMN': 1, 'Cardiomyopathy': 1, 'Ectodermal dysplasia': 1, 'SCID': 1, 'Stress response': 1, 'Translation regulation': 1, 'Aminoacyl-tRNA synthetase': 1, 'Charcot-Marie-Tooth disease': 1, 'Neuropathy': 1, 'tRNA-binding': 1, 'Glycosidase': 1, 'Leukodystrophy': 1, 'Lipid degradation': 1, 'Sphingolipid metabolism': 1, 'Deafness': 1, 'Hearing': 1, 'Non-syndromic deafness': 1, 'Tumor suppressor': 1, 'Virulence': 1, 'Cholesterol biosynthesis': 1, 'Cholesterol metabolism': 1, 'Fatty acid biosynthesis': 1, 'Lipid biosynthesis': 1, 'Steroid biosynthesis': 1, 'Sterol biosynthesis': 1, 'Lactation': 1, 'SH3-binding': 1, 'Aspartyl protease': 1, 'Viral genome integration': 1, 'Virion': 1, 'Virus entry into host cell': 1, 'Necrosis': 1, 'Prenylation': 1, 'Sensory transduction': 1, 'Vision': 1, 'Antiviral defense': 1, 'Exonuclease': 1, 'tRNA processing': 1, 'Ubl conjugation pathway': 1, 'Centromere': 1, 'Methyltransferase': 1, 'S-adenosyl-L-methionine': 1, 'Ciliopathy': 1, 'Cilium biogenesis/degradation': 1, 'Lipid droplet': 1, 'Lipid transport': 1, 'DNA damage': 1, 'Chaperone': 1, 'Primary mitochondrial disease': 1, 'Transit peptide': 1, 'Tricarboxylic acid cycle': 1, 'Translocase': 1, 'Dwarfism': 1, 'Diabetes mellitus': 1})\n"
     ]
    }
   ],
   "source": [
    "## now let's try to fetch all keywords\n",
    "def get_keywords(protein: list):\n",
    "    res = [list(k.values())[0] for k in protein['keywords']]\n",
    "    if res == None:\n",
    "        res = []\n",
    "    return(res)\n",
    "\n",
    "all_keywords=[]\n",
    "for jlist in r.json():\n",
    "    all_keywords.extend(get_keywords(jlist))\n",
    "    \n",
    "keyword_counter = Counter(all_keywords)\n",
    "print(keyword_counter)"
   ]
  },
  {
   "cell_type": "markdown",
   "metadata": {},
   "source": [
    "We visualize the most common 20 keywords with a histogram."
   ]
  },
  {
   "cell_type": "code",
   "execution_count": 21,
   "metadata": {},
   "outputs": [
    {
     "data": {
      "image/png": "[encoded data removed]",
      "text/plain": [
       "<Figure size 720x504 with 1 Axes>"
      ]
     },
     "metadata": {
      "needs_background": "light"
     },
     "output_type": "display_data"
    }
   ],
   "source": [
    "most_common_keywords = keyword_counter.most_common(20)\n",
    "y = [count for keyword, count in most_common_keywords]\n",
    "x = [keyword for keyword, count in most_common_keywords]\n",
    "\n",
    "plt.rcParams[\"figure.figsize\"] = (10,7)\n",
    "plt.rcParams.update({'font.size': 16})\n",
    "\n",
    "plt.bar(x, y, color='lightblue')\n",
    "plt.title(\"The most frequent keywords\")\n",
    "plt.ylabel(\"Frequency\")\n",
    "plt.xticks(rotation=90)\n",
    "for i, (tag, count) in enumerate(most_common_keywords):\n",
    "    plt.text(i, count, f' {count} ', rotation=90, size=16,\n",
    "             ha='center', va='top' if i < 10 else 'bottom', color='white' if i < 10 else 'black')\n",
    "plt.xlim(-0.6, len(x)-0.4) # optionally set tighter x lims\n",
    "plt.tight_layout() # change the whitespace such that all labels fit nicely\n",
    "plt.show()"
   ]
  },
  {
   "cell_type": "markdown",
   "metadata": {},
   "source": [
    "Note that many proteins are annotated with the keyword 'kinase' and 'membrane proteins' (especially 'receptor'), which are expected because these are the most frequent drug targets."
   ]
  }
 ],
 "metadata": {
  "kernelspec": {
   "display_name": "Python 3",
   "language": "python",
   "name": "python3"
  },
  "language_info": {
   "codemirror_mode": {
    "name": "ipython",
    "version": 3
   },
   "file_extension": ".py",
   "mimetype": "text/x-python",
   "name": "python",
   "nbconvert_exporter": "python",
   "pygments_lexer": "ipython3",
   "version": "3.6.9"
  }
 },
 "nbformat": 4,
 "nbformat_minor": 4
}
