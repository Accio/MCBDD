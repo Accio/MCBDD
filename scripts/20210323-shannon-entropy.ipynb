{
 "cells": [
  {
   "cell_type": "markdown",
   "metadata": {},
   "source": [
    "# Shannon entropy"
   ]
  },
  {
   "cell_type": "code",
   "execution_count": null,
   "metadata": {},
   "outputs": [],
   "source": [
    "%matplotlib inline\n",
    "%config InlineBackend.figure_format = 'svg'\n",
    "\n",
    "import matplotlib.pyplot as plt\n",
    "import numpy as np\n",
    "\n",
    "def entropy(sizes):\n",
    "    prop = sizes/np.sum(sizes)\n",
    "    entropy=np.abs(np.sum(prop * np.log2(prop)))\n",
    "    return(entropy)\n",
    "\n",
    "def mypie(sizes, compound):\n",
    "    labels = ['Target {} (pAct={})'.format(i+1,v) for i,v in enumerate(sizes)]\n",
    "    fig1, ax1 = plt.subplots()\n",
    "    ax1.pie(sizes, labels=labels, shadow=True, startangle=90,\n",
    "           counterclock=False)\n",
    "    se = entropy(sizes)\n",
    "    title = compound + \"\\nShannon entropy:\" + '%1.2f' % se\n",
    "    plt.title(title)\n",
    "    ax1.axis('equal')\n",
    "    plt.show()"
   ]
  },
  {
   "cell_type": "code",
   "execution_count": null,
   "metadata": {},
   "outputs": [],
   "source": [
    "mypie([9], 'Compound 1')"
   ]
  },
  {
   "cell_type": "code",
   "execution_count": null,
   "metadata": {},
   "outputs": [],
   "source": [
    "mypie(sizes = [9, 9, 9, 9], compound = 'Compound 2')"
   ]
  },
  {
   "cell_type": "code",
   "execution_count": null,
   "metadata": {},
   "outputs": [],
   "source": [
    "mypie(sizes = [9, 3, 3, 3], compound = 'Compound 3')"
   ]
  },
  {
   "cell_type": "code",
   "execution_count": null,
   "metadata": {},
   "outputs": [],
   "source": [
    "mypie(sizes = [9,3,6,9], compound = 'Compound 4')"
   ]
  },
  {
   "cell_type": "code",
   "execution_count": null,
   "metadata": {},
   "outputs": [],
   "source": [
    "mypie(sizes = [9]*9, compound = 'Compound 5')"
   ]
  }
 ],
 "metadata": {
  "kernelspec": {
   "display_name": "Python 3",
   "language": "python",
   "name": "python3"
  },
  "language_info": {
   "codemirror_mode": {
    "name": "ipython",
    "version": 3
   },
   "file_extension": ".py",
   "mimetype": "text/x-python",
   "name": "python",
   "nbconvert_exporter": "python",
   "pygments_lexer": "ipython3",
   "version": "3.6.9"
  }
 },
 "nbformat": 4,
 "nbformat_minor": 4
}
